{
 "cells": [
  {
   "cell_type": "code",
   "execution_count": 1,
   "metadata": {},
   "outputs": [
    {
     "ename": "SyntaxError",
     "evalue": "invalid syntax (<ipython-input-1-4f02dcad725d>, line 1)",
     "output_type": "error",
     "traceback": [
      "\u001b[1;36m  File \u001b[1;32m\"<ipython-input-1-4f02dcad725d>\"\u001b[1;36m, line \u001b[1;32m1\u001b[0m\n\u001b[1;33m    int main()\u001b[0m\n\u001b[1;37m           ^\u001b[0m\n\u001b[1;31mSyntaxError\u001b[0m\u001b[1;31m:\u001b[0m invalid syntax\n"
     ]
    }
   ],
   "source": [
    "\n",
    "\n",
    "\n",
    "\n",
    "\n",
    "int main()\n",
    "{\n",
    "    print(\"Choose an option:\")\n",
    "    print(\"1.Rent\")\n",
    "    print(\"2.Return\")\n",
    "    print(\"3.Generate rental report\")\n",
    "    int choice=int(input(\"Enter\"))\n",
    "    \n",
    "    movies=[{1:\"DDLJ\"},{2,\"K3G\"},{3,\"Singham\"}]\n",
    "    customers=[{1,\"Raj\"},{2,\"Ram\"},{3,\"Suman\"}]\n",
    "    \n",
    "    int Rental_t=[]\n",
    "    int i=0\n",
    "    \n",
    "}"
   ]
  },
  {
   "cell_type": "code",
   "execution_count": 2,
   "metadata": {},
   "outputs": [
    {
     "ename": "SyntaxError",
     "evalue": "invalid syntax (<ipython-input-2-16b24f4e2279>, line 2)",
     "output_type": "error",
     "traceback": [
      "\u001b[1;36m  File \u001b[1;32m\"<ipython-input-2-16b24f4e2279>\"\u001b[1;36m, line \u001b[1;32m2\u001b[0m\n\u001b[1;33m    int c_id=int(input(\"Enter\"))\u001b[0m\n\u001b[1;37m           ^\u001b[0m\n\u001b[1;31mSyntaxError\u001b[0m\u001b[1;31m:\u001b[0m invalid syntax\n"
     ]
    }
   ],
   "source": [
    "def rent(movies,customers,Rental_T,i):\n",
    "    int c_id=int(input(\"Enter\"))\n",
    "    Rental_T\n",
    "    \n",
    "    \n",
    "int main()\n",
    "{\n",
    "    print(\"Choose an option:\")\n",
    "    print(\"1.Rent\")\n",
    "    print(\"2.Return\")\n",
    "    print(\"3.Generate rental report\")\n",
    "    int choice=int(input(\"Enter\"))\n",
    "    \n",
    "    movies=[{1:\"DDLJ\"},{2,\"K3G\"},{3,\"Singham\"}]\n",
    "    customers=[{1,\"Raj\"},{2,\"Ram\"},{3,\"Suman\"}]\n",
    "    \n",
    "    int Rental_t=[]\n",
    "    int i=0\n",
    "    \n",
    "}"
   ]
  },
  {
   "cell_type": "code",
   "execution_count": 3,
   "metadata": {},
   "outputs": [
    {
     "ename": "IndentationError",
     "evalue": "unexpected indent (<ipython-input-3-4aa830f976bf>, line 2)",
     "output_type": "error",
     "traceback": [
      "\u001b[1;36m  File \u001b[1;32m\"<ipython-input-3-4aa830f976bf>\"\u001b[1;36m, line \u001b[1;32m2\u001b[0m\n\u001b[1;33m    print(\"1.Rent\")\u001b[0m\n\u001b[1;37m    ^\u001b[0m\n\u001b[1;31mIndentationError\u001b[0m\u001b[1;31m:\u001b[0m unexpected indent\n"
     ]
    }
   ],
   "source": [
    "print(\"Choose an option:\")\n",
    "    print(\"1.Rent\")\n",
    "    print(\"2.Return\")\n",
    "    print(\"3.Generate rental report\")\n",
    "    int choice=int(input(\"Enter\"))\n",
    "    \n",
    "    movies=[{1:\"DDLJ\"},{2,\"K3G\"},{3,\"Singham\"}]\n",
    "    customers=[{1,\"Raj\"},{2,\"Ram\"},{3,\"Suman\"}]\n",
    "    \n",
    "    int Rental_t=[]\n",
    "    int i=0"
   ]
  },
  {
   "cell_type": "code",
   "execution_count": 4,
   "metadata": {},
   "outputs": [
    {
     "ename": "SyntaxError",
     "evalue": "invalid syntax (<ipython-input-4-bd2e823bdadd>, line 5)",
     "output_type": "error",
     "traceback": [
      "\u001b[1;36m  File \u001b[1;32m\"<ipython-input-4-bd2e823bdadd>\"\u001b[1;36m, line \u001b[1;32m5\u001b[0m\n\u001b[1;33m    int choice=int(input(\"Enter\"))\u001b[0m\n\u001b[1;37m             ^\u001b[0m\n\u001b[1;31mSyntaxError\u001b[0m\u001b[1;31m:\u001b[0m invalid syntax\n"
     ]
    }
   ],
   "source": [
    "print(\"Choose an option:\")\n",
    "print(\"1.Rent\")\n",
    "print(\"2.Return\")\n",
    "print(\"3.Generate rental report\")\n",
    "int choice=int(input(\"Enter\"))\n",
    "    \n",
    "movies=[{1:\"DDLJ\"},{2,\"K3G\"},{3,\"Singham\"}]\n",
    "customers=[{1,\"Raj\"},{2,\"Ram\"},{3,\"Suman\"}]\n",
    "    \n",
    "int Rental_t=[]\n",
    "int i=0"
   ]
  },
  {
   "cell_type": "code",
   "execution_count": 5,
   "metadata": {},
   "outputs": [
    {
     "ename": "SyntaxError",
     "evalue": "invalid syntax (<ipython-input-5-21904eb4300e>, line 1)",
     "output_type": "error",
     "traceback": [
      "\u001b[1;36m  File \u001b[1;32m\"<ipython-input-5-21904eb4300e>\"\u001b[1;36m, line \u001b[1;32m1\u001b[0m\n\u001b[1;33m    int main()\u001b[0m\n\u001b[1;37m           ^\u001b[0m\n\u001b[1;31mSyntaxError\u001b[0m\u001b[1;31m:\u001b[0m invalid syntax\n"
     ]
    }
   ],
   "source": [
    "\n",
    "    \n",
    "    \n",
    "int main()\n",
    "{\n",
    "    print(\"Choose an option:\")\n",
    "    print(\"1.Rent\")\n",
    "    print(\"2.Return\")\n",
    "    print(\"3.Generate rental report\")\n",
    "    int choice=int{input(\"Enter\")}\n",
    "    \n",
    "    movies=[{1:\"DDLJ\"},{2,\"K3G\"},{3,\"Singham\"}]\n",
    "    customers=[{1,\"Raj\"},{2,\"Ram\"},{3,\"Suman\"}]\n",
    "    \n",
    "    int Rental_t=[]\n",
    "    int i=0\n",
    "    \n",
    "}"
   ]
  },
  {
   "cell_type": "code",
   "execution_count": 6,
   "metadata": {},
   "outputs": [
    {
     "ename": "SyntaxError",
     "evalue": "invalid syntax (<ipython-input-6-8d7b8a9f43c4>, line 7)",
     "output_type": "error",
     "traceback": [
      "\u001b[1;36m  File \u001b[1;32m\"<ipython-input-6-8d7b8a9f43c4>\"\u001b[1;36m, line \u001b[1;32m7\u001b[0m\n\u001b[1;33m    for i to n-1:\u001b[0m\n\u001b[1;37m           ^\u001b[0m\n\u001b[1;31mSyntaxError\u001b[0m\u001b[1;31m:\u001b[0m invalid syntax\n"
     ]
    }
   ],
   "source": [
    "def rent(movie_no,cust_no,Rental_T,i): \n",
    "    Rental_T.append({movie_no:cust_no})\n",
    "    i=i+1\n",
    "    \n",
    "def customer_d(customers):\n",
    "    n=customer.length()\n",
    "    for i to n-1:\n",
    "        print(customers[1])\n",
    "    \n",
    "    \n",
    "    \n",
    "    \n",
    "int main()\n",
    "{\n",
    "    print(\"Choose an option:\")\n",
    "    print(\"1.Rent\")\n",
    "    print(\"2.Return\")\n",
    "    print(\"3.Generate rental report\")\n",
    "    choice=int(input(\"Enter\"))\n",
    "    \n",
    "    movies=[{1:\"DDLJ\"},{2,\"K3G\"},{3,\"Singham\"}]\n",
    "    customers=[{1,\"Raj\"},{2,\"Ram\"},{3,\"Suman\"}]\n",
    "    \n",
    "    int Rental_t=[]\n",
    "    int i=0\n",
    "    \n",
    "}"
   ]
  },
  {
   "cell_type": "code",
   "execution_count": 7,
   "metadata": {},
   "outputs": [
    {
     "ename": "SyntaxError",
     "evalue": "invalid syntax (<ipython-input-7-86cbc1dd8642>, line 1)",
     "output_type": "error",
     "traceback": [
      "\u001b[1;36m  File \u001b[1;32m\"<ipython-input-7-86cbc1dd8642>\"\u001b[1;36m, line \u001b[1;32m1\u001b[0m\n\u001b[1;33m    int main()\u001b[0m\n\u001b[1;37m           ^\u001b[0m\n\u001b[1;31mSyntaxError\u001b[0m\u001b[1;31m:\u001b[0m invalid syntax\n"
     ]
    }
   ],
   "source": [
    "int main()\n",
    "{\n",
    "    print(\"Choose an option:\")\n",
    "    print(\"1.Rent\")\n",
    "    print(\"2.Return\")\n",
    "    print(\"3.Generate rental report\")\n",
    "    choice=int(input(\"Enter\"))\n",
    "    \n",
    "    movies=[{1:\"DDLJ\"},{2,\"K3G\"},{3,\"Singham\"}]\n",
    "    customers=[{1,\"Raj\"},{2,\"Ram\"},{3,\"Suman\"}]\n",
    "    \n",
    "    int Rental_t=[]\n",
    "    int i=0\n",
    "    \n",
    "}"
   ]
  },
  {
   "cell_type": "code",
   "execution_count": 8,
   "metadata": {},
   "outputs": [
    {
     "ename": "SyntaxError",
     "evalue": "invalid syntax (<ipython-input-8-3ac0e9e71c30>, line 8)",
     "output_type": "error",
     "traceback": [
      "\u001b[1;36m  File \u001b[1;32m\"<ipython-input-8-3ac0e9e71c30>\"\u001b[1;36m, line \u001b[1;32m8\u001b[0m\n\u001b[1;33m    int main()\u001b[0m\n\u001b[1;37m           ^\u001b[0m\n\u001b[1;31mSyntaxError\u001b[0m\u001b[1;31m:\u001b[0m invalid syntax\n"
     ]
    }
   ],
   "source": [
    "def rent(movie_no,cust_no,Rental_T,i): \n",
    "    if movie_no not in Rental_T:\n",
    "        Rental_T.append({movie_no:cust_no})\n",
    "        i=i+1\n",
    "    else:\n",
    "        print(\"Movie already rented.....\")\n",
    "    \n",
    "def rent(movie_no,cust_no,Rental_T,i): \n",
    "    if movie_no in Rental_T:\n",
    "        Rental_T.delete({movie_no:cust_no})\n",
    "        i=i-1\n",
    "    else:\n",
    "        print(\"Movie not returned.....\")\n",
    "    \n",
    "def details(Rental_T):\n",
    "    print(Rental_T)\n",
    "    \n",
    "int main()\n",
    "{\n",
    "    print(\"Choose an option:\")\n",
    "    print(\"1.Rent\")\n",
    "    print(\"2.Return\")\n",
    "    print(\"3.Generate rental report\")\n",
    "    choice=int(input(\"Enter\"))\n",
    "    \n",
    "    movies=[{1:\"DDLJ\"},{2,\"K3G\"},{3,\"Singham\"}]\n",
    "    customers=[{1,\"Raj\"},{2,\"Ram\"},{3,\"Suman\"}]\n",
    "    \n",
    "    int Rental_t=[]\n",
    "    int i=0\n",
    "    \n",
    "    if choice==1:\n",
    "        m=int(input(\"Enter movie no:\"))\n",
    "        n=int(input(\"Enter customer id:\"))\n",
    "        rent(m,n,Rental_T,i)\n",
    "    else if choice==2:\n",
    "        m=int(input(\"Enter movie no:\"))\n",
    "        n=int(input(\"Enter customer id:\"))\n",
    "        rent(m,n,Rental_T,i)\n",
    "    else if choice==3:\n",
    "        details(Rental_T)\n",
    "    else:\n",
    "        print(\"Choose a right option\")\n",
    "    \n",
    "}"
   ]
  },
  {
   "cell_type": "code",
   "execution_count": 10,
   "metadata": {},
   "outputs": [
    {
     "ename": "SyntaxError",
     "evalue": "invalid syntax (<ipython-input-10-58acadca0899>, line 18)",
     "output_type": "error",
     "traceback": [
      "\u001b[1;36m  File \u001b[1;32m\"<ipython-input-10-58acadca0899>\"\u001b[1;36m, line \u001b[1;32m18\u001b[0m\n\u001b[1;33m    int main()\u001b[0m\n\u001b[1;37m           ^\u001b[0m\n\u001b[1;31mSyntaxError\u001b[0m\u001b[1;31m:\u001b[0m invalid syntax\n"
     ]
    }
   ],
   "source": [
    "def rent(movie_no,cust_no,Rental_T): \n",
    "    if movie_no not in Rental_T:\n",
    "        Rental_T.append({movie_no:cust_no})\n",
    "        i=i+1\n",
    "    else:\n",
    "        print(\"Movie already rented.....\")\n",
    "    \n",
    "def rent(movie_no,cust_no,Rental_T): \n",
    "    if movie_no in Rental_T:\n",
    "        Rental_T.delete({movie_no:cust_no})\n",
    "        i=i-1\n",
    "    else:\n",
    "        print(\"Movie not returned.....\")\n",
    "        \n",
    "def customers_d(customers):\n",
    "    print(customers)\n",
    "    \n",
    "def available(Rental_T,available,movie_no):\n",
    "    if movie_no not in Rental_T:\n",
    "        available.append(movie_no)\n",
    "        print(movie_no)\n",
    "    \n",
    "def details(Rental_T):\n",
    "    print(Rental_T)\n",
    "    \n",
    "print(\"Choose an option:\")\n",
    "print(\"1.Rent\")\n",
    "print(\"2.Return\")\n",
    "print(\"3.Generate rental report\")\n",
    "choice=int(input(\"Enter\"))\n",
    "    \n",
    "movies=[{1:\"DDLJ\"},{2,\"K3G\"},{3,\"Singham\"}]\n",
    "customers=[{1,\"Raj\"},{2,\"Ram\"},{3,\"Suman\"}]\n",
    "    \n",
    "Rental_t=[]\n",
    "available=[]\n",
    "    \n",
    "if choice==1:\n",
    "    m=int(input(\"Enter movie no:\"))\n",
    "    n=int(input(\"Enter customer id:\"))\n",
    "    rent(m,n,Rental_T)\n",
    "else if choice==2:\n",
    "    m=int(input(\"Enter movie no:\"))\n",
    "    n=int(input(\"Enter customer id:\"))\n",
    "    return(m,n,Rental_T)\n",
    "else if choice==3:\n",
    "    details(Rental_T)\n",
    "else:\n",
    "    print(\"Choose a right option\")\n",
    "     "
   ]
  },
  {
   "cell_type": "code",
   "execution_count": 11,
   "metadata": {},
   "outputs": [
    {
     "ename": "SyntaxError",
     "evalue": "invalid syntax (<ipython-input-11-607a159b2765>, line 42)",
     "output_type": "error",
     "traceback": [
      "\u001b[1;36m  File \u001b[1;32m\"<ipython-input-11-607a159b2765>\"\u001b[1;36m, line \u001b[1;32m42\u001b[0m\n\u001b[1;33m    else if choice==2:\u001b[0m\n\u001b[1;37m          ^\u001b[0m\n\u001b[1;31mSyntaxError\u001b[0m\u001b[1;31m:\u001b[0m invalid syntax\n"
     ]
    }
   ],
   "source": [
    "def rent(movie_no,cust_no,Rental_T): \n",
    "    if movie_no not in Rental_T:\n",
    "        Rental_T.append({movie_no:cust_no})\n",
    "        i=i+1\n",
    "    else:\n",
    "        print(\"Movie already rented.....\")\n",
    "    \n",
    "def return(movie_no,cust_no,Rental_T): \n",
    "    if movie_no in Rental_T:\n",
    "        Rental_T.remove({movie_no:cust_no})\n",
    "        i=i-1\n",
    "    else:\n",
    "        print(\"Movie not returned.....\")\n",
    "        \n",
    "def customers_d(customers):\n",
    "    print(customers)\n",
    "    \n",
    "def available(Rental_T,available,movie_no):\n",
    "    if movie_no not in Rental_T:\n",
    "        available.append(movie_no)\n",
    "        print(movie_no)\n",
    "    \n",
    "def details(Rental_T):\n",
    "    print(Rental_T)\n",
    "    \n",
    "print(\"Choose an option:\")\n",
    "print(\"1.Rent\")\n",
    "print(\"2.Return\")\n",
    "print(\"3.Generate rental report\")\n",
    "choice=int(input(\"Enter\"))\n",
    "    \n",
    "movies=[{1:\"DDLJ\"},{2,\"K3G\"},{3,\"Singham\"}]\n",
    "customers=[{1,\"Raj\"},{2,\"Ram\"},{3,\"Suman\"}]\n",
    "    \n",
    "Rental_t=[]\n",
    "available=[]\n",
    "    \n",
    "if choice==1:\n",
    "    m=int(input(\"Enter movie no:\"))\n",
    "    n=int(input(\"Enter customer id:\"))\n",
    "    rent(m,n,Rental_T)\n",
    "else if choice==2:\n",
    "    m=int(input(\"Enter movie no:\"))\n",
    "    n=int(input(\"Enter customer id:\"))\n",
    "    return(m,n,Rental_T)\n",
    "else if choice==3:\n",
    "    details(Rental_T)\n",
    "else:\n",
    "    print(\"Choose a right option\")\n",
    "     "
   ]
  },
  {
   "cell_type": "code",
   "execution_count": null,
   "metadata": {},
   "outputs": [],
   "source": []
  }
 ],
 "metadata": {
  "kernelspec": {
   "display_name": "Python 3",
   "language": "python",
   "name": "python3"
  },
  "language_info": {
   "codemirror_mode": {
    "name": "ipython",
    "version": 3
   },
   "file_extension": ".py",
   "mimetype": "text/x-python",
   "name": "python",
   "nbconvert_exporter": "python",
   "pygments_lexer": "ipython3",
   "version": "3.7.3"
  }
 },
 "nbformat": 4,
 "nbformat_minor": 2
}
